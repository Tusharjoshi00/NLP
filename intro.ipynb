{
 "cells": [
  {
   "cell_type": "code",
   "execution_count": null,
   "id": "37daec4c",
   "metadata": {},
   "outputs": [],
   "source": [
    "#nlp is a subfield of AI which help us to understand human language\n",
    "#eg - speech recognition\n",
    "# RNN == text data ---> preprocessing---> nlp\n",
    "# CNN ---> image data ---> preparation \n",
    "'''\n",
    "preprocessing steo\n",
    "lowercase\n",
    "stemming \n",
    "lemmatization\n",
    "tokenization\n",
    "stopward removal\n",
    "punctuation removal\n",
    "pos tag\n",
    "ner - namedd enity recognition      \n",
    "'''\n"
   ]
  },
  {
   "cell_type": "code",
   "execution_count": null,
   "id": "c6524cef",
   "metadata": {},
   "outputs": [],
   "source": [
    "'''\n",
    " algo --- maths ---text  --->numerical(vector)---> word embedding(techniques which help to text to mumerical)\n",
    " one hot encoding\n",
    " bag of words\n",
    " tf-idf\n",
    " word2vec\n",
    "'''\n",
    "'''\n",
    "pip install nltk\n",
    "'''"
   ]
  }
 ],
 "metadata": {
  "language_info": {
   "name": "python"
  }
 },
 "nbformat": 4,
 "nbformat_minor": 5
}
