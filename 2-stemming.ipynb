{
 "cells": [
  {
   "cell_type": "code",
   "execution_count": 1,
   "id": "917199fc",
   "metadata": {},
   "outputs": [],
   "source": [
    "words =[\"plays\",\"playing\",\"played\",\n",
    "        \"run\",\"runs\",\"running\",\"happened\",\n",
    "        \"happening\",\"happen\"]"
   ]
  },
  {
   "cell_type": "code",
   "execution_count": null,
   "id": "1c70a9e4",
   "metadata": {},
   "outputs": [
    {
     "name": "stdout",
     "output_type": "stream",
     "text": [
      "plays --------> play\n",
      "playing --------> play\n",
      "played --------> play\n",
      "run --------> run\n",
      "runs --------> run\n",
      "running --------> run\n",
      "happened --------> happen\n",
      "happening --------> happen\n",
      "happen --------> happen\n"
     ]
    }
   ],
   "source": [
    "##porterstemmer ----> \n",
    "#the output word may not be always be a valid english word\n",
    "from nltk.stem.porter import PorterStemmer\n",
    "ps = PorterStemmer()\n",
    "\n",
    "for word in words:\n",
    "    print(word,\"-------->\",ps.stem(word))"
   ]
  },
  {
   "cell_type": "code",
   "execution_count": 6,
   "id": "5d20db09",
   "metadata": {},
   "outputs": [
    {
     "name": "stdout",
     "output_type": "stream",
     "text": [
      "plays -----> play\n",
      "playing -----> play\n",
      "played -----> played\n",
      "run -----> run\n",
      "runs -----> run\n",
      "running -----> runn\n",
      "happened -----> happened\n",
      "happening -----> happen\n",
      "happen -----> happen\n"
     ]
    }
   ],
   "source": [
    "# regex stemmer\n",
    "from nltk.stem import RegexpStemmer\n",
    "rs = RegexpStemmer(\"ing$|s$|e$|able$|ible$\")\n",
    "for word in words:\n",
    "    print(word,\"----->\",rs.stem(word))"
   ]
  },
  {
   "cell_type": "code",
   "execution_count": 7,
   "id": "c421d259",
   "metadata": {},
   "outputs": [
    {
     "name": "stdout",
     "output_type": "stream",
     "text": [
      "plays -----> play\n",
      "playing -----> play\n",
      "played -----> play\n",
      "run -----> run\n",
      "runs -----> run\n",
      "running -----> run\n",
      "happened -----> happen\n",
      "happening -----> happen\n",
      "happen -----> happen\n"
     ]
    }
   ],
   "source": [
    "#snowballstemmer -- updated version of porterstemmer\n",
    "from nltk.stem.snowball import SnowballStemmer  \n",
    "ss = SnowballStemmer(\"english\")\n",
    "for word in words:\n",
    "    print(word,\"----->\",ss.stem(word))"
   ]
  },
  {
   "cell_type": "code",
   "execution_count": null,
   "id": "b6a6d2d4",
   "metadata": {},
   "outputs": [],
   "source": []
  }
 ],
 "metadata": {
  "kernelspec": {
   "display_name": "Python 3",
   "language": "python",
   "name": "python3"
  },
  "language_info": {
   "codemirror_mode": {
    "name": "ipython",
    "version": 3
   },
   "file_extension": ".py",
   "mimetype": "text/x-python",
   "name": "python",
   "nbconvert_exporter": "python",
   "pygments_lexer": "ipython3",
   "version": "3.11.9"
  }
 },
 "nbformat": 4,
 "nbformat_minor": 5
}
