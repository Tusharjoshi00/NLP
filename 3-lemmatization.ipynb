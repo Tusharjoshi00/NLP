{
 "cells": [
  {
   "cell_type": "code",
   "execution_count": null,
   "id": "b5ebc872",
   "metadata": {},
   "outputs": [],
   "source": [
    "##lemmatization\n",
    "# work of lemmatization is to convert a word to its dictionary form\n",
    "#using grammer\n",
    "# for example, the lemmatization of \"better\" is \"good\"\n",
    "#running ---- run\n"
   ]
  },
  {
   "cell_type": "code",
   "execution_count": 5,
   "id": "f838182a",
   "metadata": {},
   "outputs": [
    {
     "name": "stderr",
     "output_type": "stream",
     "text": [
      "[nltk_data] Downloading package wordnet to\n",
      "[nltk_data]     C:\\Users\\Dell\\AppData\\Roaming\\nltk_data...\n"
     ]
    },
    {
     "data": {
      "text/plain": [
       "True"
      ]
     },
     "execution_count": 5,
     "metadata": {},
     "output_type": "execute_result"
    }
   ],
   "source": [
    "import nltk\n",
    "nltk.download('wordnet')"
   ]
  },
  {
   "cell_type": "code",
   "execution_count": 6,
   "id": "d6a5a24c",
   "metadata": {},
   "outputs": [
    {
     "name": "stdout",
     "output_type": "stream",
     "text": [
      "good\n",
      "run\n",
      "good\n"
     ]
    }
   ],
   "source": [
    "from nltk.stem import WordNetLemmatizer\n",
    "\n",
    "lemmatizer = WordNetLemmatizer()\n",
    "print(lemmatizer.lemmatize(\"better\",pos=\"a\"))  # 'a' for adjective\n",
    "print(lemmatizer.lemmatize(\"running\",pos=\"v\"))  # 'v' for verb\n",
    "print(lemmatizer.lemmatize(\"good\",pos=\"n\"))     # 'n' for noun\n"
   ]
  },
  {
   "cell_type": "code",
   "execution_count": null,
   "id": "42b18efd",
   "metadata": {},
   "outputs": [],
   "source": []
  }
 ],
 "metadata": {
  "kernelspec": {
   "display_name": "Python 3",
   "language": "python",
   "name": "python3"
  },
  "language_info": {
   "codemirror_mode": {
    "name": "ipython",
    "version": 3
   },
   "file_extension": ".py",
   "mimetype": "text/x-python",
   "name": "python",
   "nbconvert_exporter": "python",
   "pygments_lexer": "ipython3",
   "version": "3.11.9"
  }
 },
 "nbformat": 4,
 "nbformat_minor": 5
}
