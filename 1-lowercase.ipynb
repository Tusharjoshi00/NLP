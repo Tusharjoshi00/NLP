{
 "cells": [
  {
   "cell_type": "code",
   "execution_count": 1,
   "id": "73f36343",
   "metadata": {},
   "outputs": [
    {
     "name": "stdout",
     "output_type": "stream",
     "text": [
      "the quick brown for jumps\n"
     ]
    }
   ],
   "source": [
    "text=\"THE QUICK BROWN FOR JUMPS\"\n",
    "lowercase_text = text.lower()\n",
    "print(lowercase_text)"
   ]
  },
  {
   "cell_type": "code",
   "execution_count": null,
   "id": "922099ce",
   "metadata": {},
   "outputs": [],
   "source": [
    "import os \n",
    "train_path = 'dataset/train/images'\n",
    "test_path = \"dataset/test/images\"\n",
    "print(os.path.exists(train_path))\n",
    "print(os.path.exists(test_path))"
   ]
  },
  {
   "cell_type": "code",
   "execution_count": null,
   "id": "1aaaf23c",
   "metadata": {},
   "outputs": [],
   "source": [
    "os.getcwd()"
   ]
  },
  {
   "cell_type": "code",
   "execution_count": null,
   "id": "a9ddf43d",
   "metadata": {},
   "outputs": [],
   "source": [
    "import torch \n",
    "torch.cuda.empty_cache()"
   ]
  },
  {
   "cell_type": "code",
   "execution_count": null,
   "id": "948a68ec",
   "metadata": {},
   "outputs": [],
   "source": [
    "from ultralytics import YOLO\n",
    "# model = YOLO('yolov8n.yaml')\n",
    "model = YOLO(\"yolov5su.pt\")\n",
    "data_config = \"dataset/data.yaml\"\n",
    "\n",
    "model.train(data=data_config, epochs=10, imgsz=416)"
   ]
  },
  {
   "cell_type": "code",
   "execution_count": null,
   "id": "63ed4de8",
   "metadata": {},
   "outputs": [],
   "source": [
    "import cv2 \n",
    "from ultralytics import YOLO\n",
    "import matplotlib.pyplot as plt \n",
    "##model load \n",
    "model = YOLO(\"yolov5su.pt\")\n",
    "##open webcam \n",
    "cap = cv2.VideoCapture(0)\n"
   ]
  }
 ],
 "metadata": {
  "kernelspec": {
   "display_name": "Python 3",
   "language": "python",
   "name": "python3"
  },
  "language_info": {
   "codemirror_mode": {
    "name": "ipython",
    "version": 3
   },
   "file_extension": ".py",
   "mimetype": "text/x-python",
   "name": "python",
   "nbconvert_exporter": "python",
   "pygments_lexer": "ipython3",
   "version": "3.11.9"
  }
 },
 "nbformat": 4,
 "nbformat_minor": 5
}
