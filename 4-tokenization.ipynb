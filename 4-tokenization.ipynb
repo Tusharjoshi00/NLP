{
 "cells": [
  {
   "cell_type": "code",
   "execution_count": 1,
   "id": "c11dfb7a",
   "metadata": {},
   "outputs": [],
   "source": [
    "corpus = 'I am learning Natural Language Processing. I love to play with words and sentences. My favorite hobby is reading books and writing stories.'"
   ]
  },
  {
   "cell_type": "code",
   "execution_count": 8,
   "id": "586e2d3c",
   "metadata": {},
   "outputs": [
    {
     "name": "stderr",
     "output_type": "stream",
     "text": [
      "[nltk_data] Downloading package punkt to\n",
      "[nltk_data]     C:\\Users\\Dell\\AppData\\Roaming\\nltk_data...\n",
      "[nltk_data]   Unzipping tokenizers\\punkt.zip.\n",
      "[nltk_data] Downloading package punkt_tab to\n",
      "[nltk_data]     C:\\Users\\Dell\\AppData\\Roaming\\nltk_data...\n",
      "[nltk_data]   Unzipping tokenizers\\punkt_tab.zip.\n"
     ]
    },
    {
     "data": {
      "text/plain": [
       "True"
      ]
     },
     "execution_count": 8,
     "metadata": {},
     "output_type": "execute_result"
    }
   ],
   "source": [
    "from nltk.tokenize import sent_tokenize, word_tokenize\n",
    "import nltk\n",
    "nltk.download('punkt')\n",
    "nltk.download('punkt_tab')"
   ]
  },
  {
   "cell_type": "code",
   "execution_count": 9,
   "id": "1fbc5085",
   "metadata": {},
   "outputs": [
    {
     "name": "stdout",
     "output_type": "stream",
     "text": [
      "I am learning Natural Language Processing.\n",
      "/n\n",
      "['I', 'am', 'learning', 'Natural', 'Language', 'Processing', '.']\n",
      "***********************************************\n",
      "['I am learning Natural Language Processing.']\n",
      "I love to play with words and sentences.\n",
      "/n\n",
      "['I', 'love', 'to', 'play', 'with', 'words', 'and', 'sentences', '.']\n",
      "***********************************************\n",
      "['I love to play with words and sentences.']\n",
      "My favorite hobby is reading books and writing stories.\n",
      "/n\n",
      "['My', 'favorite', 'hobby', 'is', 'reading', 'books', 'and', 'writing', 'stories', '.']\n",
      "***********************************************\n",
      "['My favorite hobby is reading books and writing stories.']\n"
     ]
    }
   ],
   "source": [
    "doc = sent_tokenize(corpus)\n",
    "for i in doc:\n",
    "    print(i)    \n",
    "    print('/n')\n",
    "    print(word_tokenize(i))\n",
    "    print('***********************************************')\n",
    "    print(sent_tokenize(i))\n",
    "    "
   ]
  },
  {
   "cell_type": "code",
   "execution_count": 4,
   "id": "f167e0c4",
   "metadata": {},
   "outputs": [
    {
     "data": {
      "text/plain": [
       "['I',\n",
       " 'am',\n",
       " 'learning',\n",
       " 'Natural',\n",
       " 'Language',\n",
       " 'Processing',\n",
       " '.',\n",
       " 'I',\n",
       " 'love',\n",
       " 'to',\n",
       " 'play',\n",
       " 'with',\n",
       " 'words',\n",
       " 'and',\n",
       " 'sentences',\n",
       " '.',\n",
       " 'My',\n",
       " 'favorite',\n",
       " 'hobby',\n",
       " 'is',\n",
       " 'reading',\n",
       " 'books',\n",
       " 'and',\n",
       " 'writing',\n",
       " 'stories',\n",
       " '.']"
      ]
     },
     "execution_count": 4,
     "metadata": {},
     "output_type": "execute_result"
    }
   ],
   "source": [
    "## word punct tokentization\n",
    "##punctuation tokenizer is used to tokenize words and punctuation marks separately\n",
    "from nltk.tokenize import wordpunct_tokenize\n",
    "wordpunct_tokenize(corpus)"
   ]
  },
  {
   "cell_type": "code",
   "execution_count": 7,
   "id": "bfb34bd7",
   "metadata": {},
   "outputs": [
    {
     "data": {
      "text/plain": [
       "['I',\n",
       " 'am',\n",
       " 'learning',\n",
       " 'Natural',\n",
       " 'Language',\n",
       " 'Processing.',\n",
       " 'I',\n",
       " 'love',\n",
       " 'to',\n",
       " 'play',\n",
       " 'with',\n",
       " 'words',\n",
       " 'and',\n",
       " 'sentences.',\n",
       " 'My',\n",
       " 'favorite',\n",
       " 'hobby',\n",
       " 'is',\n",
       " 'reading',\n",
       " 'books',\n",
       " 'and',\n",
       " 'writing',\n",
       " 'stories',\n",
       " '.']"
      ]
     },
     "execution_count": 7,
     "metadata": {},
     "output_type": "execute_result"
    }
   ],
   "source": [
    "##treebank tokenization -- more accuracy\n",
    "from nltk.tokenize import TreebankWordTokenizer\n",
    "tokenizer = TreebankWordTokenizer() \n",
    "(tokenizer.tokenize(corpus))"
   ]
  },
  {
   "cell_type": "code",
   "execution_count": null,
   "id": "0b81d6de",
   "metadata": {},
   "outputs": [],
   "source": []
  }
 ],
 "metadata": {
  "kernelspec": {
   "display_name": "Python 3",
   "language": "python",
   "name": "python3"
  },
  "language_info": {
   "codemirror_mode": {
    "name": "ipython",
    "version": 3
   },
   "file_extension": ".py",
   "mimetype": "text/x-python",
   "name": "python",
   "nbconvert_exporter": "python",
   "pygments_lexer": "ipython3",
   "version": "3.11.9"
  }
 },
 "nbformat": 4,
 "nbformat_minor": 5
}
